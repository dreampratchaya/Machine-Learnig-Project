{
  "cells": [
    {
      "cell_type": "markdown",
      "metadata": {
        "colab_type": "text",
        "id": "3cbb7fRy-eyr"
      },
      "source": [
        "# Artificial Neural Network"
      ]
    },
    {
      "cell_type": "markdown",
      "metadata": {
        "colab_type": "text",
        "id": "8sNDnxE2-pwE"
      },
      "source": [
        "### Importing the libraries"
      ]
    },
    {
      "cell_type": "code",
      "execution_count": 1,
      "metadata": {},
      "outputs": [],
      "source": [
        "import pandas as pd\n",
        "import numpy as np\n",
        "import tensorflow as tf"
      ]
    },
    {
      "cell_type": "code",
      "execution_count": 2,
      "metadata": {},
      "outputs": [
        {
          "data": {
            "text/plain": [
              "'2.7.0'"
            ]
          },
          "execution_count": 2,
          "metadata": {},
          "output_type": "execute_result"
        }
      ],
      "source": [
        "tf.__version__"
      ]
    },
    {
      "cell_type": "markdown",
      "metadata": {
        "colab_type": "text",
        "id": "AG3FQEch-yuA"
      },
      "source": [
        "## Part 1 - Data Preprocessing"
      ]
    },
    {
      "cell_type": "markdown",
      "metadata": {
        "colab_type": "text",
        "id": "-4zq8Mza_D9O"
      },
      "source": [
        "### Importing the dataset"
      ]
    },
    {
      "cell_type": "code",
      "execution_count": 3,
      "metadata": {},
      "outputs": [],
      "source": [
        "dataset = pd.read_excel('Folds5x2_pp.xlsx')\n",
        "X = dataset.iloc[:, :-1].values\n",
        "y = dataset.iloc[:, -1].values"
      ]
    },
    {
      "cell_type": "code",
      "execution_count": 4,
      "metadata": {},
      "outputs": [
        {
          "data": {
            "text/plain": [
              "array([[  14.96,   41.76, 1024.07,   73.17],\n",
              "       [  25.18,   62.96, 1020.04,   59.08],\n",
              "       [   5.11,   39.4 , 1012.16,   92.14],\n",
              "       ...,\n",
              "       [  31.32,   74.33, 1012.92,   36.48],\n",
              "       [  24.48,   69.45, 1013.86,   62.39],\n",
              "       [  21.6 ,   62.52, 1017.23,   67.87]])"
            ]
          },
          "execution_count": 4,
          "metadata": {},
          "output_type": "execute_result"
        }
      ],
      "source": [
        "X"
      ]
    },
    {
      "cell_type": "code",
      "execution_count": 5,
      "metadata": {},
      "outputs": [
        {
          "data": {
            "text/plain": [
              "array([463.26, 444.37, 488.56, ..., 429.57, 435.74, 453.28])"
            ]
          },
          "execution_count": 5,
          "metadata": {},
          "output_type": "execute_result"
        }
      ],
      "source": [
        "y"
      ]
    },
    {
      "cell_type": "markdown",
      "metadata": {
        "colab_type": "text",
        "id": "VC6omXel_Up0"
      },
      "source": [
        "### Splitting the dataset into the Training set and Test set"
      ]
    },
    {
      "cell_type": "code",
      "execution_count": 6,
      "metadata": {},
      "outputs": [],
      "source": [
        "from sklearn.model_selection import train_test_split\n",
        "X_train, X_test, y_train, y_test = train_test_split(X, y, test_size = 0.2, random_state = 0)"
      ]
    },
    {
      "cell_type": "markdown",
      "metadata": {},
      "source": [
        "### Feature Scaling"
      ]
    },
    {
      "cell_type": "code",
      "execution_count": 7,
      "metadata": {},
      "outputs": [],
      "source": [
        "from sklearn.preprocessing import StandardScaler\n",
        "sc = StandardScaler()\n",
        "X_train = sc.fit_transform(X_train)\n",
        "X_test = sc.transform(X_test)"
      ]
    },
    {
      "cell_type": "markdown",
      "metadata": {
        "colab_type": "text",
        "id": "_mSLlAT9_eyI"
      },
      "source": [
        "## Part 2 - Building the ANN"
      ]
    },
    {
      "cell_type": "markdown",
      "metadata": {
        "colab_type": "text",
        "id": "CsBULd_f_wLY"
      },
      "source": [
        "### Initializing the ANN"
      ]
    },
    {
      "cell_type": "code",
      "execution_count": 8,
      "metadata": {},
      "outputs": [],
      "source": [
        "ann = tf.keras.models.Sequential()"
      ]
    },
    {
      "cell_type": "markdown",
      "metadata": {
        "colab_type": "text",
        "id": "iitAFJS_ABUn"
      },
      "source": [
        "### Adding the input layer and the first hidden layer"
      ]
    },
    {
      "cell_type": "code",
      "execution_count": 9,
      "metadata": {},
      "outputs": [],
      "source": [
        "ann.add(tf.keras.layers.Dense(units = 20, activation = 'relu'))"
      ]
    },
    {
      "cell_type": "markdown",
      "metadata": {
        "colab_type": "text",
        "id": "-lb4kK_wAKbs"
      },
      "source": [
        "### Adding the second hidden layer"
      ]
    },
    {
      "cell_type": "code",
      "execution_count": 10,
      "metadata": {},
      "outputs": [],
      "source": [
        "ann.add(tf.keras.layers.Dense(units = 20, activation = 'relu'))"
      ]
    },
    {
      "cell_type": "markdown",
      "metadata": {
        "colab_type": "text",
        "id": "jwMOmKb3AdBY"
      },
      "source": [
        "### Adding the output layer"
      ]
    },
    {
      "cell_type": "code",
      "execution_count": 11,
      "metadata": {},
      "outputs": [],
      "source": [
        "#predict regression ไม่ต้องใส่ activation และ units = 1\n",
        "ann.add(tf.keras.layers.Dense(units = 1))"
      ]
    },
    {
      "cell_type": "markdown",
      "metadata": {
        "colab_type": "text",
        "id": "fq7e4fF6A1yy"
      },
      "source": [
        "## Part 3 - Training the ANN"
      ]
    },
    {
      "cell_type": "markdown",
      "metadata": {
        "colab_type": "text",
        "id": "qDeylAs2An25"
      },
      "source": [
        "### Compiling the ANN"
      ]
    },
    {
      "cell_type": "code",
      "execution_count": 12,
      "metadata": {},
      "outputs": [],
      "source": [
        "# regression loss = mean_squared_error \n",
        "ann.compile(optimizer = 'adam', loss = 'mean_squared_error')"
      ]
    },
    {
      "cell_type": "markdown",
      "metadata": {
        "colab_type": "text",
        "id": "YjVuiybYOo7r"
      },
      "source": [
        "### Training the ANN model on the Training set"
      ]
    },
    {
      "cell_type": "code",
      "execution_count": 13,
      "metadata": {},
      "outputs": [
        {
          "name": "stdout",
          "output_type": "stream",
          "text": [
            "Epoch 1/100\n",
            "240/240 [==============================] - 1s 2ms/step - loss: 199886.3438\n",
            "Epoch 2/100\n",
            "240/240 [==============================] - 0s 2ms/step - loss: 117622.6406\n",
            "Epoch 3/100\n",
            "240/240 [==============================] - 0s 2ms/step - loss: 28627.8457\n",
            "Epoch 4/100\n",
            "240/240 [==============================] - 0s 2ms/step - loss: 14941.9297\n",
            "Epoch 5/100\n",
            "240/240 [==============================] - 0s 2ms/step - loss: 8606.3984\n",
            "Epoch 6/100\n",
            "240/240 [==============================] - 0s 2ms/step - loss: 4227.7886\n",
            "Epoch 7/100\n",
            "240/240 [==============================] - 0s 2ms/step - loss: 1844.7717\n",
            "Epoch 8/100\n",
            "240/240 [==============================] - 0s 2ms/step - loss: 851.5587\n",
            "Epoch 9/100\n",
            "240/240 [==============================] - 0s 2ms/step - loss: 458.3846\n",
            "Epoch 10/100\n",
            "240/240 [==============================] - 0s 2ms/step - loss: 284.7346\n",
            "Epoch 11/100\n",
            "240/240 [==============================] - 0s 2ms/step - loss: 194.7857\n",
            "Epoch 12/100\n",
            "240/240 [==============================] - 0s 2ms/step - loss: 141.5545\n",
            "Epoch 13/100\n",
            "240/240 [==============================] - 0s 2ms/step - loss: 107.6863\n",
            "Epoch 14/100\n",
            "240/240 [==============================] - 0s 2ms/step - loss: 85.1493\n",
            "Epoch 15/100\n",
            "240/240 [==============================] - 0s 2ms/step - loss: 69.7097\n",
            "Epoch 16/100\n",
            "240/240 [==============================] - 0s 2ms/step - loss: 58.3036\n",
            "Epoch 17/100\n",
            "240/240 [==============================] - 1s 2ms/step - loss: 49.9190\n",
            "Epoch 18/100\n",
            "240/240 [==============================] - 1s 2ms/step - loss: 43.6305\n",
            "Epoch 19/100\n",
            "240/240 [==============================] - 0s 2ms/step - loss: 38.4044\n",
            "Epoch 20/100\n",
            "240/240 [==============================] - 0s 2ms/step - loss: 34.6365\n",
            "Epoch 21/100\n",
            "240/240 [==============================] - 0s 2ms/step - loss: 31.5770\n",
            "Epoch 22/100\n",
            "240/240 [==============================] - 0s 2ms/step - loss: 29.0673\n",
            "Epoch 23/100\n",
            "240/240 [==============================] - 0s 2ms/step - loss: 27.1440\n",
            "Epoch 24/100\n",
            "240/240 [==============================] - 1s 2ms/step - loss: 25.6561\n",
            "Epoch 25/100\n",
            "240/240 [==============================] - 1s 2ms/step - loss: 24.3819\n",
            "Epoch 26/100\n",
            "240/240 [==============================] - 0s 2ms/step - loss: 23.5319\n",
            "Epoch 27/100\n",
            "240/240 [==============================] - 0s 2ms/step - loss: 22.6362\n",
            "Epoch 28/100\n",
            "240/240 [==============================] - 0s 2ms/step - loss: 21.8651\n",
            "Epoch 29/100\n",
            "240/240 [==============================] - 0s 2ms/step - loss: 21.2866\n",
            "Epoch 30/100\n",
            "240/240 [==============================] - 0s 2ms/step - loss: 20.9077\n",
            "Epoch 31/100\n",
            "240/240 [==============================] - 0s 2ms/step - loss: 20.5504\n",
            "Epoch 32/100\n",
            "240/240 [==============================] - 0s 2ms/step - loss: 20.1223\n",
            "Epoch 33/100\n",
            "240/240 [==============================] - 0s 2ms/step - loss: 19.9649\n",
            "Epoch 34/100\n",
            "240/240 [==============================] - 0s 2ms/step - loss: 19.9613\n",
            "Epoch 35/100\n",
            "240/240 [==============================] - 0s 2ms/step - loss: 19.6157\n",
            "Epoch 36/100\n",
            "240/240 [==============================] - 0s 2ms/step - loss: 19.5967\n",
            "Epoch 37/100\n",
            "240/240 [==============================] - 0s 2ms/step - loss: 19.4950\n",
            "Epoch 38/100\n",
            "240/240 [==============================] - 0s 2ms/step - loss: 19.2558\n",
            "Epoch 39/100\n",
            "240/240 [==============================] - 0s 2ms/step - loss: 19.2005\n",
            "Epoch 40/100\n",
            "240/240 [==============================] - 0s 2ms/step - loss: 19.2063\n",
            "Epoch 41/100\n",
            "240/240 [==============================] - 0s 2ms/step - loss: 19.1978\n",
            "Epoch 42/100\n",
            "240/240 [==============================] - 0s 2ms/step - loss: 18.9241\n",
            "Epoch 43/100\n",
            "240/240 [==============================] - 0s 2ms/step - loss: 18.9653\n",
            "Epoch 44/100\n",
            "240/240 [==============================] - 0s 2ms/step - loss: 19.0948\n",
            "Epoch 45/100\n",
            "240/240 [==============================] - 0s 2ms/step - loss: 19.1040\n",
            "Epoch 46/100\n",
            "240/240 [==============================] - 0s 2ms/step - loss: 19.0424\n",
            "Epoch 47/100\n",
            "240/240 [==============================] - 0s 2ms/step - loss: 18.8073\n",
            "Epoch 48/100\n",
            "240/240 [==============================] - 0s 2ms/step - loss: 18.8638\n",
            "Epoch 49/100\n",
            "240/240 [==============================] - 0s 2ms/step - loss: 19.0301\n",
            "Epoch 50/100\n",
            "240/240 [==============================] - 0s 2ms/step - loss: 18.7525\n",
            "Epoch 51/100\n",
            "240/240 [==============================] - 0s 2ms/step - loss: 18.7534\n",
            "Epoch 52/100\n",
            "240/240 [==============================] - 0s 2ms/step - loss: 18.7733\n",
            "Epoch 53/100\n",
            "240/240 [==============================] - 0s 2ms/step - loss: 18.6337\n",
            "Epoch 54/100\n",
            "240/240 [==============================] - 0s 2ms/step - loss: 18.7379\n",
            "Epoch 55/100\n",
            "240/240 [==============================] - 0s 2ms/step - loss: 18.8128\n",
            "Epoch 56/100\n",
            "240/240 [==============================] - 0s 2ms/step - loss: 18.6600\n",
            "Epoch 57/100\n",
            "240/240 [==============================] - 0s 2ms/step - loss: 18.5736\n",
            "Epoch 58/100\n",
            "240/240 [==============================] - 0s 2ms/step - loss: 18.5642\n",
            "Epoch 59/100\n",
            "240/240 [==============================] - 0s 2ms/step - loss: 18.5711\n",
            "Epoch 60/100\n",
            "240/240 [==============================] - 0s 2ms/step - loss: 18.7285\n",
            "Epoch 61/100\n",
            "240/240 [==============================] - 0s 2ms/step - loss: 18.7461\n",
            "Epoch 62/100\n",
            "240/240 [==============================] - 0s 2ms/step - loss: 18.9622\n",
            "Epoch 63/100\n",
            "240/240 [==============================] - 0s 2ms/step - loss: 18.9590\n",
            "Epoch 64/100\n",
            "240/240 [==============================] - 0s 2ms/step - loss: 18.6530\n",
            "Epoch 65/100\n",
            "240/240 [==============================] - 0s 2ms/step - loss: 18.6937\n",
            "Epoch 66/100\n",
            "240/240 [==============================] - 0s 2ms/step - loss: 18.4569\n",
            "Epoch 67/100\n",
            "240/240 [==============================] - 0s 2ms/step - loss: 18.6229\n",
            "Epoch 68/100\n",
            "240/240 [==============================] - 0s 2ms/step - loss: 18.5386\n",
            "Epoch 69/100\n",
            "240/240 [==============================] - 0s 2ms/step - loss: 18.6122\n",
            "Epoch 70/100\n",
            "240/240 [==============================] - 0s 2ms/step - loss: 18.5325\n",
            "Epoch 71/100\n",
            "240/240 [==============================] - 0s 2ms/step - loss: 18.3223\n",
            "Epoch 72/100\n",
            "240/240 [==============================] - 0s 2ms/step - loss: 18.6262\n",
            "Epoch 73/100\n",
            "240/240 [==============================] - 0s 2ms/step - loss: 18.3869\n",
            "Epoch 74/100\n",
            "240/240 [==============================] - 0s 2ms/step - loss: 18.4909\n",
            "Epoch 75/100\n",
            "240/240 [==============================] - 0s 2ms/step - loss: 18.3642\n",
            "Epoch 76/100\n",
            "240/240 [==============================] - 0s 2ms/step - loss: 18.4497\n",
            "Epoch 77/100\n",
            "240/240 [==============================] - 0s 2ms/step - loss: 18.4801\n",
            "Epoch 78/100\n",
            "240/240 [==============================] - 0s 2ms/step - loss: 18.3905\n",
            "Epoch 79/100\n",
            "240/240 [==============================] - 0s 2ms/step - loss: 18.4481\n",
            "Epoch 80/100\n",
            "240/240 [==============================] - 0s 2ms/step - loss: 18.6440\n",
            "Epoch 81/100\n",
            "240/240 [==============================] - 0s 2ms/step - loss: 18.3552\n",
            "Epoch 82/100\n",
            "240/240 [==============================] - 0s 2ms/step - loss: 18.5467\n",
            "Epoch 83/100\n",
            "240/240 [==============================] - 0s 2ms/step - loss: 18.7083\n",
            "Epoch 84/100\n",
            "240/240 [==============================] - 0s 2ms/step - loss: 18.4756\n",
            "Epoch 85/100\n",
            "240/240 [==============================] - 0s 2ms/step - loss: 18.3672\n",
            "Epoch 86/100\n",
            "240/240 [==============================] - 0s 2ms/step - loss: 18.3906\n",
            "Epoch 87/100\n",
            "240/240 [==============================] - 0s 2ms/step - loss: 18.1872\n",
            "Epoch 88/100\n",
            "240/240 [==============================] - 0s 2ms/step - loss: 18.4898\n",
            "Epoch 89/100\n",
            "240/240 [==============================] - 0s 2ms/step - loss: 18.5034\n",
            "Epoch 90/100\n",
            "240/240 [==============================] - 0s 2ms/step - loss: 18.5523\n",
            "Epoch 91/100\n",
            "240/240 [==============================] - 0s 2ms/step - loss: 18.6041\n",
            "Epoch 92/100\n",
            "240/240 [==============================] - 0s 2ms/step - loss: 18.4953\n",
            "Epoch 93/100\n",
            "240/240 [==============================] - 0s 2ms/step - loss: 18.2943\n",
            "Epoch 94/100\n",
            "240/240 [==============================] - 0s 2ms/step - loss: 18.3005\n",
            "Epoch 95/100\n",
            "240/240 [==============================] - 0s 2ms/step - loss: 18.3206\n",
            "Epoch 96/100\n",
            "240/240 [==============================] - 0s 2ms/step - loss: 18.4984\n",
            "Epoch 97/100\n",
            "240/240 [==============================] - 0s 2ms/step - loss: 18.3812\n",
            "Epoch 98/100\n",
            "240/240 [==============================] - 0s 2ms/step - loss: 18.6218\n",
            "Epoch 99/100\n",
            "240/240 [==============================] - 0s 2ms/step - loss: 18.3105\n",
            "Epoch 100/100\n",
            "240/240 [==============================] - 0s 2ms/step - loss: 18.2126\n"
          ]
        },
        {
          "data": {
            "text/plain": [
              "<keras.callbacks.History at 0x22eb47458e0>"
            ]
          },
          "execution_count": 13,
          "metadata": {},
          "output_type": "execute_result"
        }
      ],
      "source": [
        "ann.fit(X_train, y_train, batch_size = 32, epochs = 100)"
      ]
    },
    {
      "cell_type": "markdown",
      "metadata": {
        "colab_type": "text",
        "id": "0H0zKKNEBLD5"
      },
      "source": [
        "### Predicting the results of the Test set"
      ]
    },
    {
      "cell_type": "code",
      "execution_count": 17,
      "metadata": {},
      "outputs": [
        {
          "name": "stdout",
          "output_type": "stream",
          "text": [
            "[[434.11932373 431.23      ]\n",
            " [460.13616943 460.01      ]\n",
            " [464.79095459 461.14      ]\n",
            " ...\n",
            " [471.37780762 473.26      ]\n",
            " [441.75540161 438.        ]\n",
            " [460.80682373 463.28      ]]\n"
          ]
        }
      ],
      "source": [
        "y_pred = ann.predict(X_test)\n",
        "print(np.concatenate((y_pred.reshape(len(y_pred),1), y_test.reshape(len(y_test),1)),1))"
      ]
    },
    {
      "cell_type": "code",
      "execution_count": 18,
      "metadata": {},
      "outputs": [
        {
          "data": {
            "text/html": [
              "<div>\n",
              "<style scoped>\n",
              "    .dataframe tbody tr th:only-of-type {\n",
              "        vertical-align: middle;\n",
              "    }\n",
              "\n",
              "    .dataframe tbody tr th {\n",
              "        vertical-align: top;\n",
              "    }\n",
              "\n",
              "    .dataframe thead th {\n",
              "        text-align: right;\n",
              "    }\n",
              "</style>\n",
              "<table border=\"1\" class=\"dataframe\">\n",
              "  <thead>\n",
              "    <tr style=\"text-align: right;\">\n",
              "      <th></th>\n",
              "      <th>Predict</th>\n",
              "      <th>Actual</th>\n",
              "    </tr>\n",
              "  </thead>\n",
              "  <tbody>\n",
              "    <tr>\n",
              "      <th>0</th>\n",
              "      <td>434.119324</td>\n",
              "      <td>431.23</td>\n",
              "    </tr>\n",
              "    <tr>\n",
              "      <th>1</th>\n",
              "      <td>460.136169</td>\n",
              "      <td>460.01</td>\n",
              "    </tr>\n",
              "    <tr>\n",
              "      <th>2</th>\n",
              "      <td>464.790955</td>\n",
              "      <td>461.14</td>\n",
              "    </tr>\n",
              "    <tr>\n",
              "      <th>3</th>\n",
              "      <td>448.069122</td>\n",
              "      <td>445.90</td>\n",
              "    </tr>\n",
              "    <tr>\n",
              "      <th>4</th>\n",
              "      <td>458.234680</td>\n",
              "      <td>451.29</td>\n",
              "    </tr>\n",
              "    <tr>\n",
              "      <th>...</th>\n",
              "      <td>...</td>\n",
              "      <td>...</td>\n",
              "    </tr>\n",
              "    <tr>\n",
              "      <th>1909</th>\n",
              "      <td>462.927521</td>\n",
              "      <td>460.29</td>\n",
              "    </tr>\n",
              "    <tr>\n",
              "      <th>1910</th>\n",
              "      <td>455.271362</td>\n",
              "      <td>452.42</td>\n",
              "    </tr>\n",
              "    <tr>\n",
              "      <th>1911</th>\n",
              "      <td>471.377808</td>\n",
              "      <td>473.26</td>\n",
              "    </tr>\n",
              "    <tr>\n",
              "      <th>1912</th>\n",
              "      <td>441.755402</td>\n",
              "      <td>438.00</td>\n",
              "    </tr>\n",
              "    <tr>\n",
              "      <th>1913</th>\n",
              "      <td>460.806824</td>\n",
              "      <td>463.28</td>\n",
              "    </tr>\n",
              "  </tbody>\n",
              "</table>\n",
              "<p>1914 rows × 2 columns</p>\n",
              "</div>"
            ],
            "text/plain": [
              "         Predict  Actual\n",
              "0     434.119324  431.23\n",
              "1     460.136169  460.01\n",
              "2     464.790955  461.14\n",
              "3     448.069122  445.90\n",
              "4     458.234680  451.29\n",
              "...          ...     ...\n",
              "1909  462.927521  460.29\n",
              "1910  455.271362  452.42\n",
              "1911  471.377808  473.26\n",
              "1912  441.755402  438.00\n",
              "1913  460.806824  463.28\n",
              "\n",
              "[1914 rows x 2 columns]"
            ]
          },
          "execution_count": 18,
          "metadata": {},
          "output_type": "execute_result"
        }
      ],
      "source": [
        "pd.set_option('display.max_row', 80)\n",
        "data = {'Predict': y_pred.flatten(), 'Actual': y_test}\n",
        "pd.DataFrame(data)"
      ]
    },
    {
      "cell_type": "markdown",
      "metadata": {},
      "source": [
        "## Evaluating the Model Performance"
      ]
    },
    {
      "cell_type": "markdown",
      "metadata": {},
      "source": [
        "$R^2$"
      ]
    },
    {
      "cell_type": "code",
      "execution_count": 19,
      "metadata": {},
      "outputs": [
        {
          "data": {
            "text/plain": [
              "0.9416433523256127"
            ]
          },
          "execution_count": 19,
          "metadata": {},
          "output_type": "execute_result"
        }
      ],
      "source": [
        "from sklearn.metrics import r2_score\n",
        "r2_score(y_test, y_pred)"
      ]
    }
  ],
  "metadata": {
    "colab": {
      "collapsed_sections": [],
      "name": "Artificial Neural Network",
      "provenance": [],
      "toc_visible": true
    },
    "kernelspec": {
      "display_name": "Python 3",
      "name": "python3"
    },
    "language_info": {
      "codemirror_mode": {
        "name": "ipython",
        "version": 3
      },
      "file_extension": ".py",
      "mimetype": "text/x-python",
      "name": "python",
      "nbconvert_exporter": "python",
      "pygments_lexer": "ipython3",
      "version": "3.8.12"
    }
  },
  "nbformat": 4,
  "nbformat_minor": 0
}
